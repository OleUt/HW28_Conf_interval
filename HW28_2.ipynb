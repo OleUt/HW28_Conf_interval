{
 "cells": [
  {
   "cell_type": "code",
   "execution_count": 1,
   "id": "4c0d33c8",
   "metadata": {},
   "outputs": [
    {
     "name": "stdout",
     "output_type": "stream",
     "text": [
      "probability = 0.4\n",
      "95% conf. interval of probability: 0.3093997461136028 0.4979992153815975\n"
     ]
    }
   ],
   "source": [
    "import math\n",
    "\n",
    "n = 100\n",
    "m = 40\n",
    "t = 1.96       # conf. probability = 0.95\n",
    "\n",
    "a = t * math.sqrt(m*(n-m)/n + t**2/4)\n",
    "lower = 1/(t**2+n) * (m + t**2/2 - a)\n",
    "upper = 1/(t**2+n) * (m + t**2/2 + a)\n",
    "print('probability =', m/n)\n",
    "print('95% conf. interval of probability:', lower, upper)"
   ]
  }
 ],
 "metadata": {
  "kernelspec": {
   "display_name": "Python 3 (ipykernel)",
   "language": "python",
   "name": "python3"
  },
  "language_info": {
   "codemirror_mode": {
    "name": "ipython",
    "version": 3
   },
   "file_extension": ".py",
   "mimetype": "text/x-python",
   "name": "python",
   "nbconvert_exporter": "python",
   "pygments_lexer": "ipython3",
   "version": "3.11.1"
  }
 },
 "nbformat": 4,
 "nbformat_minor": 5
}
