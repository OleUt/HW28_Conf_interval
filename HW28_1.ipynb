{
 "cells": [
  {
   "cell_type": "code",
   "execution_count": 1,
   "id": "db25cc66",
   "metadata": {},
   "outputs": [
    {
     "name": "stdout",
     "output_type": "stream",
     "text": [
      "mean = 4.0\n",
      "std. dev. = 1.7770466332772772\n"
     ]
    }
   ],
   "source": [
    "import scipy.stats\n",
    "import math\n",
    "\n",
    "x = [1, 2, 4, 6, 7]\n",
    "f = [2, 3, 10, 3, 2]\n",
    "n = 20\n",
    "df = n - 1\n",
    "a = 0.05\n",
    "\n",
    "mean = 0\n",
    "for i in range(len(x)):\n",
    "    mean += x[i] * f[i]\n",
    "mean = mean/n\n",
    "print('mean =', mean)\n",
    "\n",
    "sd = 0\n",
    "for i in range(len(x)):\n",
    "    sd += (x[i] - mean)**2 * f[i]\n",
    "sd = math.sqrt(sd/(n-1))\n",
    "print('std. dev. =', sd)"
   ]
  },
  {
   "cell_type": "code",
   "execution_count": 2,
   "id": "90d23b32",
   "metadata": {},
   "outputs": [
    {
     "name": "stdout",
     "output_type": "stream",
     "text": [
      "chi2_1 ( a = 0.975 ,  df = 19 ) = 32.85232686172969\n",
      "chi2_2 ( a = 0.025 ,  df = 19 ) = 8.906516481987971\n"
     ]
    }
   ],
   "source": [
    "# chi square\n",
    "chi2_1 = scipy.stats.chi2.ppf(1-a/2, df)\n",
    "chi2_2 = scipy.stats.chi2.ppf(a/2, df)\n",
    "print('chi2_1 ( a =', 1-a/2, ',  df =', df, ') =', chi2_1)\n",
    "print('chi2_2 ( a =', a/2, ',  df =', df, ') =', chi2_2)"
   ]
  },
  {
   "cell_type": "code",
   "execution_count": 3,
   "id": "44d961c3",
   "metadata": {},
   "outputs": [
    {
     "name": "stdout",
     "output_type": "stream",
     "text": [
      "0.95 % conf. interval of std. dev.: 1.3514268948836121 2.595503908625943\n"
     ]
    }
   ],
   "source": [
    "# conf. interval\n",
    "lower = 0                                   # case for q > 1\n",
    "if (1 - math.sqrt((n-1)/chi2_1)) < 1:\n",
    "    lower = sd * math.sqrt((n-1)/chi2_1)    # case for q < 1\n",
    "upper = sd * math.sqrt((n-1)/chi2_2)\n",
    "print(1-a, '% conf. interval of std. dev.:', lower, upper)"
   ]
  }
 ],
 "metadata": {
  "kernelspec": {
   "display_name": "Python 3 (ipykernel)",
   "language": "python",
   "name": "python3"
  },
  "language_info": {
   "codemirror_mode": {
    "name": "ipython",
    "version": 3
   },
   "file_extension": ".py",
   "mimetype": "text/x-python",
   "name": "python",
   "nbconvert_exporter": "python",
   "pygments_lexer": "ipython3",
   "version": "3.11.1"
  }
 },
 "nbformat": 4,
 "nbformat_minor": 5
}
