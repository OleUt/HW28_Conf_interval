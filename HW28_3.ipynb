{
 "cells": [
  {
   "cell_type": "code",
   "execution_count": 1,
   "id": "2172891b",
   "metadata": {},
   "outputs": [
    {
     "name": "stdout",
     "output_type": "stream",
     "text": [
      "min sample size = 167\n"
     ]
    }
   ],
   "source": [
    "t = 2.58    # conf. probability = 0.99\n",
    "sigma = 3\n",
    "delta = 0.6\n",
    "\n",
    "n = t**2 * sigma**2 / delta**2\n",
    "if n*10%10 != 0:\n",
    "    n = int(n) + 1\n",
    "print('min sample size =', n)"
   ]
  }
 ],
 "metadata": {
  "kernelspec": {
   "display_name": "Python 3 (ipykernel)",
   "language": "python",
   "name": "python3"
  },
  "language_info": {
   "codemirror_mode": {
    "name": "ipython",
    "version": 3
   },
   "file_extension": ".py",
   "mimetype": "text/x-python",
   "name": "python",
   "nbconvert_exporter": "python",
   "pygments_lexer": "ipython3",
   "version": "3.11.1"
  }
 },
 "nbformat": 4,
 "nbformat_minor": 5
}
